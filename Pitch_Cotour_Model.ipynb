{
 "cells": [
  {
   "cell_type": "code",
   "execution_count": null,
   "metadata": {},
   "outputs": [],
   "source": [
    "import os\n",
    "from scipy.spatial.distance import euclidean\n",
    "from fastdtw import fastdtw\n",
    "import numpy as np\n",
    "import os, random\n",
    "import sklearn\n",
    "from sklearn.ensemble import RandomForestClassifier"
   ]
  },
  {
   "cell_type": "code",
   "execution_count": null,
   "metadata": {},
   "outputs": [],
   "source": [
    "\"\"\"Note - this cell takes 20 hours to run. \n",
    "To avoid running this, results of the cell are stored in .txt files which can be found in GitHub folder.\n",
    "These files are called \"distance.csv\" and \"results.csv\". Please use those to run the follwing cells.\"\"\"\n",
    "\n",
    "\n",
    "\n",
    "\"\"\"Loading data into python\"\"\"\n",
    "\n",
    "\n",
    "result=[]\n",
    "distance=[]\n",
    "\n",
    "#Please replace \"path\" with path where f0data folder is extracted (make sure there is a \"/\" at the end). The zip of this folder can be found in GitHub folder. \n",
    "directory = 'path'\n",
    "\n",
    "\n",
    "i = 0\n",
    "while i<15000:\n",
    "    filename = random.choice(os.listdir(directory))\n",
    "    if 'per' in filename and os.path.isfile(((directory + filename[0:17]).replace('per','ref')) + '.f0s.txt'): \n",
    "        _,x=np.loadtxt((directory + filename), delimiter='\\t', unpack=True)\n",
    "        _,y=np.loadtxt((((directory + filename[0:17]).replace('per','ref')) + '.f0s.txt'), delimiter='\\t', unpack=True)\n",
    "\n",
    "        \n",
    "\"\"\"Running DTW and saving data\"\"\"\n",
    "\n",
    "        \n",
    "        z,path = fastdtw(x, y, dist=euclidean)\n",
    "        distance.append(z)\n",
    "        result.append(filename[-12:-8])\n",
    "       \n",
    "        i=i+1\n",
    "        print(i)"
   ]
  },
  {
   "cell_type": "code",
   "execution_count": null,
   "metadata": {},
   "outputs": [],
   "source": [
    "\"\"\"This code was used to save CSV files with data from above cell. \n",
    "The files are already saved and provided on Github folder. \n",
    "Please do not run this cell. This is here only for reference\"\"\"\n",
    "\n",
    "#for i in range (0,15000):\n",
    "    #str(distance[i])\n",
    "    #str(result[i])\n",
    "    \n",
    "#np.savetxt('C:/Users/arshi/Desktop/Smule data/distance.csv', distance, delimiter = ',', fmt = '%s')\n",
    "#np.savetxt('C:/Users/arshi/Desktop/Smule data/result.csv', result, delimiter = ',', fmt = '%s')"
   ]
  },
  {
   "cell_type": "code",
   "execution_count": null,
   "metadata": {},
   "outputs": [],
   "source": [
    "\"\"\"This cell imports data from \"distance.csv\" and \"result.csv\" and prepares it to feed in the model\"\"\"\n",
    "\n",
    "#Please replace \"path\" with path for \"distance.csv\" file. The file can be found in GitHub folder. \n",
    "distance_file= open(\"path\",\"r\")\n",
    "distance_file_data = distance_file.read()\n",
    "distance_data_string = distance_file_data.split('\\n')\n",
    "\n",
    "distance_data_float = []\n",
    "for i in range (0,15000):\n",
    "    q = float(distance_data_string[i])\n",
    "    distance_data_float.append(q)\n",
    "distance_file.close()\n",
    "\n",
    "##Please replace \"path\" with path for \"result.csv\" file. The file can be found in GitHub folder. \n",
    "result_file = open(\"path\",\"r\")\n",
    "result_file_data = result_file.read()\n",
    "result_data_string = result_file_data.split('\\n')\n",
    "result_file.close()"
   ]
  },
  {
   "cell_type": "code",
   "execution_count": null,
   "metadata": {},
   "outputs": [],
   "source": [
    "\"\"\"This cell runs Random Forest Classifier with input data as DTW distance and output as pass/fail\"\"\"\n",
    "\n",
    "D = distance_data_float\n",
    "X = np.asarray(D)\n",
    "X = X.reshape(-1,1)\n",
    "y = result_data_string\n",
    "RF = RandomForestClassifier(n_estimators=100, max_depth=2, random_state=0)  \n",
    "RF.fit(X, y)  \n",
    "RF.predict(X[460:,:])  \n",
    "print(round(RF.score(X,y), 4))\n",
    "print(\"This is the mean prediction accuracy\")"
   ]
  }
 ],
 "metadata": {
  "kernelspec": {
   "display_name": "Python 3",
   "language": "python",
   "name": "python3"
  },
  "language_info": {
   "codemirror_mode": {
    "name": "ipython",
    "version": 3
   },
   "file_extension": ".py",
   "mimetype": "text/x-python",
   "name": "python",
   "nbconvert_exporter": "python",
   "pygments_lexer": "ipython3",
   "version": "3.7.3"
  }
 },
 "nbformat": 4,
 "nbformat_minor": 2
}
